{
  "nbformat": 4,
  "nbformat_minor": 0,
  "metadata": {
    "colab": {
      "provenance": []
    },
    "kernelspec": {
      "name": "python3",
      "display_name": "Python 3"
    },
    "language_info": {
      "name": "python"
    }
  },
  "cells": [
    {
      "cell_type": "markdown",
      "source": [
        "Explotary Data Analysis"
      ],
      "metadata": {
        "id": "RxyYOdIJUk76"
      }
    },
    {
      "cell_type": "code",
      "source": [
        "import numpy as np\n",
        "import pandas as pd\n",
        "import matplotlib.pyplot as plt\n",
        "import seaborn as sns"
      ],
      "metadata": {
        "id": "VnK205T3U3Do"
      },
      "execution_count": 1,
      "outputs": []
    },
    {
      "cell_type": "code",
      "source": [],
      "metadata": {
        "id": "7xCaqH7gca4q"
      },
      "execution_count": 2,
      "outputs": []
    },
    {
      "cell_type": "code",
      "source": [
        "df=pd.read_csv('/content/train.csv')"
      ],
      "metadata": {
        "id": "7vBSg7BHc2fJ"
      },
      "execution_count": 2,
      "outputs": []
    },
    {
      "cell_type": "code",
      "source": [
        "df.info()"
      ],
      "metadata": {
        "colab": {
          "base_uri": "https://localhost:8080/"
        },
        "id": "VzGu7snbeLo_",
        "outputId": "5056d196-27e4-43ef-c3cd-281225886dbb"
      },
      "execution_count": 3,
      "outputs": [
        {
          "output_type": "stream",
          "name": "stdout",
          "text": [
            "<class 'pandas.core.frame.DataFrame'>\n",
            "RangeIndex: 3198 entries, 0 to 3197\n",
            "Data columns (total 19 columns):\n",
            " #   Column                 Non-Null Count  Dtype  \n",
            "---  ------                 --------------  -----  \n",
            " 0   Video_id               3198 non-null   object \n",
            " 1   category_id            3192 non-null   object \n",
            " 2   channel_title          3195 non-null   object \n",
            " 3   subscriber             3175 non-null   float64\n",
            " 4   title                  3195 non-null   object \n",
            " 5   tags                   3046 non-null   object \n",
            " 6   description            3133 non-null   object \n",
            " 7   Trend_day_count        3197 non-null   float64\n",
            " 8   Tag_count              3197 non-null   object \n",
            " 9   Trend_tag_count        3197 non-null   object \n",
            " 10  comment_count          3198 non-null   object \n",
            " 11  comment_disabled       3198 non-null   object \n",
            " 12  like dislike disabled  3198 non-null   object \n",
            " 13  likes                  3198 non-null   object \n",
            " 14  dislike                3198 non-null   object \n",
            " 15  tag appered in title   3197 non-null   object \n",
            " 16  views                  3198 non-null   object \n",
            " 17  Unnamed: 17            1 non-null      float64\n",
            " 18  Unnamed: 18            1 non-null      object \n",
            "dtypes: float64(3), object(16)\n",
            "memory usage: 474.8+ KB\n"
          ]
        }
      ]
    },
    {
      "cell_type": "markdown",
      "source": [
        "Deleting Colum,n With MOre number of Null values "
      ],
      "metadata": {
        "id": "6VzcFPa_eTcv"
      }
    },
    {
      "cell_type": "code",
      "source": [
        "df2 = df.drop(['Unnamed: 17', 'Unnamed: 18'], axis =1)"
      ],
      "metadata": {
        "id": "9kkXB1NDeNwW"
      },
      "execution_count": 4,
      "outputs": []
    },
    {
      "cell_type": "code",
      "source": [
        "df2.info()"
      ],
      "metadata": {
        "colab": {
          "base_uri": "https://localhost:8080/"
        },
        "id": "hsVkod3defwY",
        "outputId": "8f9abc51-3c1c-4a7e-e7d5-cf968f5f93f7"
      },
      "execution_count": 5,
      "outputs": [
        {
          "output_type": "stream",
          "name": "stdout",
          "text": [
            "<class 'pandas.core.frame.DataFrame'>\n",
            "RangeIndex: 3198 entries, 0 to 3197\n",
            "Data columns (total 17 columns):\n",
            " #   Column                 Non-Null Count  Dtype  \n",
            "---  ------                 --------------  -----  \n",
            " 0   Video_id               3198 non-null   object \n",
            " 1   category_id            3192 non-null   object \n",
            " 2   channel_title          3195 non-null   object \n",
            " 3   subscriber             3175 non-null   float64\n",
            " 4   title                  3195 non-null   object \n",
            " 5   tags                   3046 non-null   object \n",
            " 6   description            3133 non-null   object \n",
            " 7   Trend_day_count        3197 non-null   float64\n",
            " 8   Tag_count              3197 non-null   object \n",
            " 9   Trend_tag_count        3197 non-null   object \n",
            " 10  comment_count          3198 non-null   object \n",
            " 11  comment_disabled       3198 non-null   object \n",
            " 12  like dislike disabled  3198 non-null   object \n",
            " 13  likes                  3198 non-null   object \n",
            " 14  dislike                3198 non-null   object \n",
            " 15  tag appered in title   3197 non-null   object \n",
            " 16  views                  3198 non-null   object \n",
            "dtypes: float64(2), object(15)\n",
            "memory usage: 424.9+ KB\n"
          ]
        }
      ]
    },
    {
      "cell_type": "markdown",
      "source": [
        "Stastical Descrpition of the data "
      ],
      "metadata": {
        "id": "Amdz4ofAexNF"
      }
    },
    {
      "cell_type": "code",
      "source": [
        "df2.describe()"
      ],
      "metadata": {
        "colab": {
          "base_uri": "https://localhost:8080/",
          "height": 300
        },
        "id": "3b0pXMl-e6h3",
        "outputId": "3df4fe20-c2cd-4942-bd52-dc831a682ce6"
      },
      "execution_count": 8,
      "outputs": [
        {
          "output_type": "execute_result",
          "data": {
            "text/plain": [
              "         subscriber  Trend_day_count\n",
              "count  3.175000e+03      3197.000000\n",
              "mean   3.823981e+06         7.964342\n",
              "std    2.865771e+07        78.556055\n",
              "min    0.000000e+00         0.000000\n",
              "25%    2.428800e+05         4.000000\n",
              "50%    1.241220e+06         7.000000\n",
              "75%    3.812622e+06        10.000000\n",
              "max    1.576229e+09      4444.000000"
            ],
            "text/html": [
              "\n",
              "  <div id=\"df-e3a29cd5-cec5-4bd9-85ae-ac76de6b0505\">\n",
              "    <div class=\"colab-df-container\">\n",
              "      <div>\n",
              "<style scoped>\n",
              "    .dataframe tbody tr th:only-of-type {\n",
              "        vertical-align: middle;\n",
              "    }\n",
              "\n",
              "    .dataframe tbody tr th {\n",
              "        vertical-align: top;\n",
              "    }\n",
              "\n",
              "    .dataframe thead th {\n",
              "        text-align: right;\n",
              "    }\n",
              "</style>\n",
              "<table border=\"1\" class=\"dataframe\">\n",
              "  <thead>\n",
              "    <tr style=\"text-align: right;\">\n",
              "      <th></th>\n",
              "      <th>subscriber</th>\n",
              "      <th>Trend_day_count</th>\n",
              "    </tr>\n",
              "  </thead>\n",
              "  <tbody>\n",
              "    <tr>\n",
              "      <th>count</th>\n",
              "      <td>3.175000e+03</td>\n",
              "      <td>3197.000000</td>\n",
              "    </tr>\n",
              "    <tr>\n",
              "      <th>mean</th>\n",
              "      <td>3.823981e+06</td>\n",
              "      <td>7.964342</td>\n",
              "    </tr>\n",
              "    <tr>\n",
              "      <th>std</th>\n",
              "      <td>2.865771e+07</td>\n",
              "      <td>78.556055</td>\n",
              "    </tr>\n",
              "    <tr>\n",
              "      <th>min</th>\n",
              "      <td>0.000000e+00</td>\n",
              "      <td>0.000000</td>\n",
              "    </tr>\n",
              "    <tr>\n",
              "      <th>25%</th>\n",
              "      <td>2.428800e+05</td>\n",
              "      <td>4.000000</td>\n",
              "    </tr>\n",
              "    <tr>\n",
              "      <th>50%</th>\n",
              "      <td>1.241220e+06</td>\n",
              "      <td>7.000000</td>\n",
              "    </tr>\n",
              "    <tr>\n",
              "      <th>75%</th>\n",
              "      <td>3.812622e+06</td>\n",
              "      <td>10.000000</td>\n",
              "    </tr>\n",
              "    <tr>\n",
              "      <th>max</th>\n",
              "      <td>1.576229e+09</td>\n",
              "      <td>4444.000000</td>\n",
              "    </tr>\n",
              "  </tbody>\n",
              "</table>\n",
              "</div>\n",
              "      <button class=\"colab-df-convert\" onclick=\"convertToInteractive('df-e3a29cd5-cec5-4bd9-85ae-ac76de6b0505')\"\n",
              "              title=\"Convert this dataframe to an interactive table.\"\n",
              "              style=\"display:none;\">\n",
              "        \n",
              "  <svg xmlns=\"http://www.w3.org/2000/svg\" height=\"24px\"viewBox=\"0 0 24 24\"\n",
              "       width=\"24px\">\n",
              "    <path d=\"M0 0h24v24H0V0z\" fill=\"none\"/>\n",
              "    <path d=\"M18.56 5.44l.94 2.06.94-2.06 2.06-.94-2.06-.94-.94-2.06-.94 2.06-2.06.94zm-11 1L8.5 8.5l.94-2.06 2.06-.94-2.06-.94L8.5 2.5l-.94 2.06-2.06.94zm10 10l.94 2.06.94-2.06 2.06-.94-2.06-.94-.94-2.06-.94 2.06-2.06.94z\"/><path d=\"M17.41 7.96l-1.37-1.37c-.4-.4-.92-.59-1.43-.59-.52 0-1.04.2-1.43.59L10.3 9.45l-7.72 7.72c-.78.78-.78 2.05 0 2.83L4 21.41c.39.39.9.59 1.41.59.51 0 1.02-.2 1.41-.59l7.78-7.78 2.81-2.81c.8-.78.8-2.07 0-2.86zM5.41 20L4 18.59l7.72-7.72 1.47 1.35L5.41 20z\"/>\n",
              "  </svg>\n",
              "      </button>\n",
              "      \n",
              "  <style>\n",
              "    .colab-df-container {\n",
              "      display:flex;\n",
              "      flex-wrap:wrap;\n",
              "      gap: 12px;\n",
              "    }\n",
              "\n",
              "    .colab-df-convert {\n",
              "      background-color: #E8F0FE;\n",
              "      border: none;\n",
              "      border-radius: 50%;\n",
              "      cursor: pointer;\n",
              "      display: none;\n",
              "      fill: #1967D2;\n",
              "      height: 32px;\n",
              "      padding: 0 0 0 0;\n",
              "      width: 32px;\n",
              "    }\n",
              "\n",
              "    .colab-df-convert:hover {\n",
              "      background-color: #E2EBFA;\n",
              "      box-shadow: 0px 1px 2px rgba(60, 64, 67, 0.3), 0px 1px 3px 1px rgba(60, 64, 67, 0.15);\n",
              "      fill: #174EA6;\n",
              "    }\n",
              "\n",
              "    [theme=dark] .colab-df-convert {\n",
              "      background-color: #3B4455;\n",
              "      fill: #D2E3FC;\n",
              "    }\n",
              "\n",
              "    [theme=dark] .colab-df-convert:hover {\n",
              "      background-color: #434B5C;\n",
              "      box-shadow: 0px 1px 3px 1px rgba(0, 0, 0, 0.15);\n",
              "      filter: drop-shadow(0px 1px 2px rgba(0, 0, 0, 0.3));\n",
              "      fill: #FFFFFF;\n",
              "    }\n",
              "  </style>\n",
              "\n",
              "      <script>\n",
              "        const buttonEl =\n",
              "          document.querySelector('#df-e3a29cd5-cec5-4bd9-85ae-ac76de6b0505 button.colab-df-convert');\n",
              "        buttonEl.style.display =\n",
              "          google.colab.kernel.accessAllowed ? 'block' : 'none';\n",
              "\n",
              "        async function convertToInteractive(key) {\n",
              "          const element = document.querySelector('#df-e3a29cd5-cec5-4bd9-85ae-ac76de6b0505');\n",
              "          const dataTable =\n",
              "            await google.colab.kernel.invokeFunction('convertToInteractive',\n",
              "                                                     [key], {});\n",
              "          if (!dataTable) return;\n",
              "\n",
              "          const docLinkHtml = 'Like what you see? Visit the ' +\n",
              "            '<a target=\"_blank\" href=https://colab.research.google.com/notebooks/data_table.ipynb>data table notebook</a>'\n",
              "            + ' to learn more about interactive tables.';\n",
              "          element.innerHTML = '';\n",
              "          dataTable['output_type'] = 'display_data';\n",
              "          await google.colab.output.renderOutput(dataTable, element);\n",
              "          const docLink = document.createElement('div');\n",
              "          docLink.innerHTML = docLinkHtml;\n",
              "          element.appendChild(docLink);\n",
              "        }\n",
              "      </script>\n",
              "    </div>\n",
              "  </div>\n",
              "  "
            ]
          },
          "metadata": {},
          "execution_count": 8
        }
      ]
    },
    {
      "cell_type": "markdown",
      "source": [
        "Fill The Rows With Null values "
      ],
      "metadata": {
        "id": "kW9ZD8hIfqOl"
      }
    },
    {
      "cell_type": "code",
      "source": [
        "df2.fillna(0)"
      ],
      "metadata": {
        "colab": {
          "base_uri": "https://localhost:8080/",
          "height": 1000
        },
        "id": "L4YvVpZnftS6",
        "outputId": "495a183e-c6eb-4b39-fb53-74fe1331055e"
      },
      "execution_count": 9,
      "outputs": [
        {
          "output_type": "execute_result",
          "data": {
            "text/plain": [
              "        Video_id category_id          channel_title  subscriber  \\\n",
              "0      HDR9SQc79          22           CaseyNeistat   9086142.0   \n",
              "1     KNH52UF?48          24        LastWeekTonight   5937292.0   \n",
              "2     QTW28IRG36          23           Rudy Mancuso   4191209.0   \n",
              "3     MGL76WI]26          24  Good Mythical Morning  13186408.0   \n",
              "4     TWP93KXT70          24               nigahiga  20563106.0   \n",
              "...          ...         ...                    ...         ...   \n",
              "3193  OKR48DOE67          20         EA SPORTS FIFA   3150213.0   \n",
              "3194  QJK69DS?91          10          JackWhiteVEVO    261596.0   \n",
              "3195  VHF51NVr11          10         JamesBlakeVEVO     28321.0   \n",
              "3196  XHU22OAJ39          26             Refinery29    890739.0   \n",
              "3197  IFD79NSG47          22                MN khan         0.0   \n",
              "\n",
              "                                                  title  \\\n",
              "0                    WE WANT TO TALK ABOUT OUR MARRIAGE   \n",
              "1     The Trump Presidency: Last Week Tonight with J...   \n",
              "2     Racist Superman | Rudy Mancuso, King Bach & Le...   \n",
              "3                      Nickelback Lyrics: Real or Fake?   \n",
              "4                              I Dare You: GOING BALD!?   \n",
              "...                                                 ...   \n",
              "3193      FIFA 18 - FUT Champions Cup Barcelona - Day 1   \n",
              "3194                   Jack White - Corporation (Audio)   \n",
              "3195  James Blake - If The Car Beside You Moves Ahea...   \n",
              "3196  Lucie Fink Trains Like A Professional Gymnast ...   \n",
              "3197  Man drops magnum of Champagne on the floor in ...   \n",
              "\n",
              "                                                   tags  \\\n",
              "0                                       SHANtell martin   \n",
              "1     last week tonight trump presidency|last week t...   \n",
              "2     racist superman|rudy|mancuso|king|bach|racist|...   \n",
              "3     rhett and link|gmm|good mythical morning|rhett...   \n",
              "4     ryan|higa|higatv|nigahiga|i dare you|idy|rhpc|...   \n",
              "...                                                 ...   \n",
              "3193  fifa|fifa ultimate team|fut|fifa pack opening|...   \n",
              "3194  Alternative|Corporation|Jack White|Third Man R...   \n",
              "3195  James|Blake|If|The|Car|Beside|You|Moves|Ahead|...   \n",
              "3196  refinery29|refinery 29|r29|r29 video|refinery2...   \n",
              "3197                                                  0   \n",
              "\n",
              "                                            description  Trend_day_count  \\\n",
              "0     SHANTELL'S CHANNEL - https://www.youtube.com/s...              6.0   \n",
              "1     One year after the presidential election, John...              1.0   \n",
              "2     WATCH MY PREVIOUS VIDEO ▶ \\n\\nSUBSCRIBE ► http...             10.0   \n",
              "3     Today we find out if Link is a Nickelback amat...             12.0   \n",
              "4     I know it's been a while since we did this sho...             11.0   \n",
              "...                                                 ...              ...   \n",
              "3193  Day 1 of the FUT Champions Cup Barcelona featu...              7.0   \n",
              "3194  “Corporation” by Jack White from the forthcomi...              7.0   \n",
              "3195  If the car beside you moves ahead \\nAs much as...             11.0   \n",
              "3196  On this episode of Lucie For Hire, our host Lu...             11.0   \n",
              "3197  Man spills magnum of champagne ‘worth £30,000’...             12.0   \n",
              "\n",
              "     Tag_count Trend_tag_count comment_count comment_disabled  \\\n",
              "0           21               6                          FALSE   \n",
              "1           23               1        116266             TRUE   \n",
              "2           22               3        257850             TRUE   \n",
              "3           17               5        263939             TRUE   \n",
              "4           15               7        268085             TRUE   \n",
              "...        ...             ...           ...              ...   \n",
              "3193        20               5                          FALSE   \n",
              "3194         8               6                          FALSE   \n",
              "3195        15               4                          FALSE   \n",
              "3196        14               6        250750             TRUE   \n",
              "3197        12               4         32337             TRUE   \n",
              "\n",
              "     like dislike disabled  likes dislike tag appered in title    views  \n",
              "0                    FALSE  13342    6089                False  1978978  \n",
              "1                    FALSE   5761    3044                False  1487870  \n",
              "2                     TRUE      0       0                 True  1502102  \n",
              "3                     TRUE      0       0                 True  3519302  \n",
              "4                     TRUE      0       0                 True  4835374  \n",
              "...                    ...    ...     ...                  ...      ...  \n",
              "3193                 FALSE   9734    5912                False   747960  \n",
              "3194                 FALSE  16006   12019                 True   200410  \n",
              "3195                  TRUE      0       0                 True   244022  \n",
              "3196                 FALSE   6859    1247                 True   907340  \n",
              "3197                 FALSE   8339    5436                 True   465531  \n",
              "\n",
              "[3198 rows x 17 columns]"
            ],
            "text/html": [
              "\n",
              "  <div id=\"df-fe84d813-706b-4f2e-a07a-488a3c1f3422\">\n",
              "    <div class=\"colab-df-container\">\n",
              "      <div>\n",
              "<style scoped>\n",
              "    .dataframe tbody tr th:only-of-type {\n",
              "        vertical-align: middle;\n",
              "    }\n",
              "\n",
              "    .dataframe tbody tr th {\n",
              "        vertical-align: top;\n",
              "    }\n",
              "\n",
              "    .dataframe thead th {\n",
              "        text-align: right;\n",
              "    }\n",
              "</style>\n",
              "<table border=\"1\" class=\"dataframe\">\n",
              "  <thead>\n",
              "    <tr style=\"text-align: right;\">\n",
              "      <th></th>\n",
              "      <th>Video_id</th>\n",
              "      <th>category_id</th>\n",
              "      <th>channel_title</th>\n",
              "      <th>subscriber</th>\n",
              "      <th>title</th>\n",
              "      <th>tags</th>\n",
              "      <th>description</th>\n",
              "      <th>Trend_day_count</th>\n",
              "      <th>Tag_count</th>\n",
              "      <th>Trend_tag_count</th>\n",
              "      <th>comment_count</th>\n",
              "      <th>comment_disabled</th>\n",
              "      <th>like dislike disabled</th>\n",
              "      <th>likes</th>\n",
              "      <th>dislike</th>\n",
              "      <th>tag appered in title</th>\n",
              "      <th>views</th>\n",
              "    </tr>\n",
              "  </thead>\n",
              "  <tbody>\n",
              "    <tr>\n",
              "      <th>0</th>\n",
              "      <td>HDR9SQc79</td>\n",
              "      <td>22</td>\n",
              "      <td>CaseyNeistat</td>\n",
              "      <td>9086142.0</td>\n",
              "      <td>WE WANT TO TALK ABOUT OUR MARRIAGE</td>\n",
              "      <td>SHANtell martin</td>\n",
              "      <td>SHANTELL'S CHANNEL - https://www.youtube.com/s...</td>\n",
              "      <td>6.0</td>\n",
              "      <td>21</td>\n",
              "      <td>6</td>\n",
              "      <td></td>\n",
              "      <td>FALSE</td>\n",
              "      <td>FALSE</td>\n",
              "      <td>13342</td>\n",
              "      <td>6089</td>\n",
              "      <td>False</td>\n",
              "      <td>1978978</td>\n",
              "    </tr>\n",
              "    <tr>\n",
              "      <th>1</th>\n",
              "      <td>KNH52UF?48</td>\n",
              "      <td>24</td>\n",
              "      <td>LastWeekTonight</td>\n",
              "      <td>5937292.0</td>\n",
              "      <td>The Trump Presidency: Last Week Tonight with J...</td>\n",
              "      <td>last week tonight trump presidency|last week t...</td>\n",
              "      <td>One year after the presidential election, John...</td>\n",
              "      <td>1.0</td>\n",
              "      <td>23</td>\n",
              "      <td>1</td>\n",
              "      <td>116266</td>\n",
              "      <td>TRUE</td>\n",
              "      <td>FALSE</td>\n",
              "      <td>5761</td>\n",
              "      <td>3044</td>\n",
              "      <td>False</td>\n",
              "      <td>1487870</td>\n",
              "    </tr>\n",
              "    <tr>\n",
              "      <th>2</th>\n",
              "      <td>QTW28IRG36</td>\n",
              "      <td>23</td>\n",
              "      <td>Rudy Mancuso</td>\n",
              "      <td>4191209.0</td>\n",
              "      <td>Racist Superman | Rudy Mancuso, King Bach &amp; Le...</td>\n",
              "      <td>racist superman|rudy|mancuso|king|bach|racist|...</td>\n",
              "      <td>WATCH MY PREVIOUS VIDEO ▶ \\n\\nSUBSCRIBE ► http...</td>\n",
              "      <td>10.0</td>\n",
              "      <td>22</td>\n",
              "      <td>3</td>\n",
              "      <td>257850</td>\n",
              "      <td>TRUE</td>\n",
              "      <td>TRUE</td>\n",
              "      <td>0</td>\n",
              "      <td>0</td>\n",
              "      <td>True</td>\n",
              "      <td>1502102</td>\n",
              "    </tr>\n",
              "    <tr>\n",
              "      <th>3</th>\n",
              "      <td>MGL76WI]26</td>\n",
              "      <td>24</td>\n",
              "      <td>Good Mythical Morning</td>\n",
              "      <td>13186408.0</td>\n",
              "      <td>Nickelback Lyrics: Real or Fake?</td>\n",
              "      <td>rhett and link|gmm|good mythical morning|rhett...</td>\n",
              "      <td>Today we find out if Link is a Nickelback amat...</td>\n",
              "      <td>12.0</td>\n",
              "      <td>17</td>\n",
              "      <td>5</td>\n",
              "      <td>263939</td>\n",
              "      <td>TRUE</td>\n",
              "      <td>TRUE</td>\n",
              "      <td>0</td>\n",
              "      <td>0</td>\n",
              "      <td>True</td>\n",
              "      <td>3519302</td>\n",
              "    </tr>\n",
              "    <tr>\n",
              "      <th>4</th>\n",
              "      <td>TWP93KXT70</td>\n",
              "      <td>24</td>\n",
              "      <td>nigahiga</td>\n",
              "      <td>20563106.0</td>\n",
              "      <td>I Dare You: GOING BALD!?</td>\n",
              "      <td>ryan|higa|higatv|nigahiga|i dare you|idy|rhpc|...</td>\n",
              "      <td>I know it's been a while since we did this sho...</td>\n",
              "      <td>11.0</td>\n",
              "      <td>15</td>\n",
              "      <td>7</td>\n",
              "      <td>268085</td>\n",
              "      <td>TRUE</td>\n",
              "      <td>TRUE</td>\n",
              "      <td>0</td>\n",
              "      <td>0</td>\n",
              "      <td>True</td>\n",
              "      <td>4835374</td>\n",
              "    </tr>\n",
              "    <tr>\n",
              "      <th>...</th>\n",
              "      <td>...</td>\n",
              "      <td>...</td>\n",
              "      <td>...</td>\n",
              "      <td>...</td>\n",
              "      <td>...</td>\n",
              "      <td>...</td>\n",
              "      <td>...</td>\n",
              "      <td>...</td>\n",
              "      <td>...</td>\n",
              "      <td>...</td>\n",
              "      <td>...</td>\n",
              "      <td>...</td>\n",
              "      <td>...</td>\n",
              "      <td>...</td>\n",
              "      <td>...</td>\n",
              "      <td>...</td>\n",
              "      <td>...</td>\n",
              "    </tr>\n",
              "    <tr>\n",
              "      <th>3193</th>\n",
              "      <td>OKR48DOE67</td>\n",
              "      <td>20</td>\n",
              "      <td>EA SPORTS FIFA</td>\n",
              "      <td>3150213.0</td>\n",
              "      <td>FIFA 18 - FUT Champions Cup Barcelona - Day 1</td>\n",
              "      <td>fifa|fifa ultimate team|fut|fifa pack opening|...</td>\n",
              "      <td>Day 1 of the FUT Champions Cup Barcelona featu...</td>\n",
              "      <td>7.0</td>\n",
              "      <td>20</td>\n",
              "      <td>5</td>\n",
              "      <td></td>\n",
              "      <td>FALSE</td>\n",
              "      <td>FALSE</td>\n",
              "      <td>9734</td>\n",
              "      <td>5912</td>\n",
              "      <td>False</td>\n",
              "      <td>747960</td>\n",
              "    </tr>\n",
              "    <tr>\n",
              "      <th>3194</th>\n",
              "      <td>QJK69DS?91</td>\n",
              "      <td>10</td>\n",
              "      <td>JackWhiteVEVO</td>\n",
              "      <td>261596.0</td>\n",
              "      <td>Jack White - Corporation (Audio)</td>\n",
              "      <td>Alternative|Corporation|Jack White|Third Man R...</td>\n",
              "      <td>“Corporation” by Jack White from the forthcomi...</td>\n",
              "      <td>7.0</td>\n",
              "      <td>8</td>\n",
              "      <td>6</td>\n",
              "      <td></td>\n",
              "      <td>FALSE</td>\n",
              "      <td>FALSE</td>\n",
              "      <td>16006</td>\n",
              "      <td>12019</td>\n",
              "      <td>True</td>\n",
              "      <td>200410</td>\n",
              "    </tr>\n",
              "    <tr>\n",
              "      <th>3195</th>\n",
              "      <td>VHF51NVr11</td>\n",
              "      <td>10</td>\n",
              "      <td>JamesBlakeVEVO</td>\n",
              "      <td>28321.0</td>\n",
              "      <td>James Blake - If The Car Beside You Moves Ahea...</td>\n",
              "      <td>James|Blake|If|The|Car|Beside|You|Moves|Ahead|...</td>\n",
              "      <td>If the car beside you moves ahead \\nAs much as...</td>\n",
              "      <td>11.0</td>\n",
              "      <td>15</td>\n",
              "      <td>4</td>\n",
              "      <td></td>\n",
              "      <td>FALSE</td>\n",
              "      <td>TRUE</td>\n",
              "      <td>0</td>\n",
              "      <td>0</td>\n",
              "      <td>True</td>\n",
              "      <td>244022</td>\n",
              "    </tr>\n",
              "    <tr>\n",
              "      <th>3196</th>\n",
              "      <td>XHU22OAJ39</td>\n",
              "      <td>26</td>\n",
              "      <td>Refinery29</td>\n",
              "      <td>890739.0</td>\n",
              "      <td>Lucie Fink Trains Like A Professional Gymnast ...</td>\n",
              "      <td>refinery29|refinery 29|r29|r29 video|refinery2...</td>\n",
              "      <td>On this episode of Lucie For Hire, our host Lu...</td>\n",
              "      <td>11.0</td>\n",
              "      <td>14</td>\n",
              "      <td>6</td>\n",
              "      <td>250750</td>\n",
              "      <td>TRUE</td>\n",
              "      <td>FALSE</td>\n",
              "      <td>6859</td>\n",
              "      <td>1247</td>\n",
              "      <td>True</td>\n",
              "      <td>907340</td>\n",
              "    </tr>\n",
              "    <tr>\n",
              "      <th>3197</th>\n",
              "      <td>IFD79NSG47</td>\n",
              "      <td>22</td>\n",
              "      <td>MN khan</td>\n",
              "      <td>0.0</td>\n",
              "      <td>Man drops magnum of Champagne on the floor in ...</td>\n",
              "      <td>0</td>\n",
              "      <td>Man spills magnum of champagne ‘worth £30,000’...</td>\n",
              "      <td>12.0</td>\n",
              "      <td>12</td>\n",
              "      <td>4</td>\n",
              "      <td>32337</td>\n",
              "      <td>TRUE</td>\n",
              "      <td>FALSE</td>\n",
              "      <td>8339</td>\n",
              "      <td>5436</td>\n",
              "      <td>True</td>\n",
              "      <td>465531</td>\n",
              "    </tr>\n",
              "  </tbody>\n",
              "</table>\n",
              "<p>3198 rows × 17 columns</p>\n",
              "</div>\n",
              "      <button class=\"colab-df-convert\" onclick=\"convertToInteractive('df-fe84d813-706b-4f2e-a07a-488a3c1f3422')\"\n",
              "              title=\"Convert this dataframe to an interactive table.\"\n",
              "              style=\"display:none;\">\n",
              "        \n",
              "  <svg xmlns=\"http://www.w3.org/2000/svg\" height=\"24px\"viewBox=\"0 0 24 24\"\n",
              "       width=\"24px\">\n",
              "    <path d=\"M0 0h24v24H0V0z\" fill=\"none\"/>\n",
              "    <path d=\"M18.56 5.44l.94 2.06.94-2.06 2.06-.94-2.06-.94-.94-2.06-.94 2.06-2.06.94zm-11 1L8.5 8.5l.94-2.06 2.06-.94-2.06-.94L8.5 2.5l-.94 2.06-2.06.94zm10 10l.94 2.06.94-2.06 2.06-.94-2.06-.94-.94-2.06-.94 2.06-2.06.94z\"/><path d=\"M17.41 7.96l-1.37-1.37c-.4-.4-.92-.59-1.43-.59-.52 0-1.04.2-1.43.59L10.3 9.45l-7.72 7.72c-.78.78-.78 2.05 0 2.83L4 21.41c.39.39.9.59 1.41.59.51 0 1.02-.2 1.41-.59l7.78-7.78 2.81-2.81c.8-.78.8-2.07 0-2.86zM5.41 20L4 18.59l7.72-7.72 1.47 1.35L5.41 20z\"/>\n",
              "  </svg>\n",
              "      </button>\n",
              "      \n",
              "  <style>\n",
              "    .colab-df-container {\n",
              "      display:flex;\n",
              "      flex-wrap:wrap;\n",
              "      gap: 12px;\n",
              "    }\n",
              "\n",
              "    .colab-df-convert {\n",
              "      background-color: #E8F0FE;\n",
              "      border: none;\n",
              "      border-radius: 50%;\n",
              "      cursor: pointer;\n",
              "      display: none;\n",
              "      fill: #1967D2;\n",
              "      height: 32px;\n",
              "      padding: 0 0 0 0;\n",
              "      width: 32px;\n",
              "    }\n",
              "\n",
              "    .colab-df-convert:hover {\n",
              "      background-color: #E2EBFA;\n",
              "      box-shadow: 0px 1px 2px rgba(60, 64, 67, 0.3), 0px 1px 3px 1px rgba(60, 64, 67, 0.15);\n",
              "      fill: #174EA6;\n",
              "    }\n",
              "\n",
              "    [theme=dark] .colab-df-convert {\n",
              "      background-color: #3B4455;\n",
              "      fill: #D2E3FC;\n",
              "    }\n",
              "\n",
              "    [theme=dark] .colab-df-convert:hover {\n",
              "      background-color: #434B5C;\n",
              "      box-shadow: 0px 1px 3px 1px rgba(0, 0, 0, 0.15);\n",
              "      filter: drop-shadow(0px 1px 2px rgba(0, 0, 0, 0.3));\n",
              "      fill: #FFFFFF;\n",
              "    }\n",
              "  </style>\n",
              "\n",
              "      <script>\n",
              "        const buttonEl =\n",
              "          document.querySelector('#df-fe84d813-706b-4f2e-a07a-488a3c1f3422 button.colab-df-convert');\n",
              "        buttonEl.style.display =\n",
              "          google.colab.kernel.accessAllowed ? 'block' : 'none';\n",
              "\n",
              "        async function convertToInteractive(key) {\n",
              "          const element = document.querySelector('#df-fe84d813-706b-4f2e-a07a-488a3c1f3422');\n",
              "          const dataTable =\n",
              "            await google.colab.kernel.invokeFunction('convertToInteractive',\n",
              "                                                     [key], {});\n",
              "          if (!dataTable) return;\n",
              "\n",
              "          const docLinkHtml = 'Like what you see? Visit the ' +\n",
              "            '<a target=\"_blank\" href=https://colab.research.google.com/notebooks/data_table.ipynb>data table notebook</a>'\n",
              "            + ' to learn more about interactive tables.';\n",
              "          element.innerHTML = '';\n",
              "          dataTable['output_type'] = 'display_data';\n",
              "          await google.colab.output.renderOutput(dataTable, element);\n",
              "          const docLink = document.createElement('div');\n",
              "          docLink.innerHTML = docLinkHtml;\n",
              "          element.appendChild(docLink);\n",
              "        }\n",
              "      </script>\n",
              "    </div>\n",
              "  </div>\n",
              "  "
            ]
          },
          "metadata": {},
          "execution_count": 9
        }
      ]
    },
    {
      "cell_type": "code",
      "source": [
        "df2.info()"
      ],
      "metadata": {
        "colab": {
          "base_uri": "https://localhost:8080/"
        },
        "id": "dDoXuTw-f2DT",
        "outputId": "f151c09f-3853-476b-8de8-883e922d8882"
      },
      "execution_count": 10,
      "outputs": [
        {
          "output_type": "stream",
          "name": "stdout",
          "text": [
            "<class 'pandas.core.frame.DataFrame'>\n",
            "RangeIndex: 3198 entries, 0 to 3197\n",
            "Data columns (total 17 columns):\n",
            " #   Column                 Non-Null Count  Dtype  \n",
            "---  ------                 --------------  -----  \n",
            " 0   Video_id               3198 non-null   object \n",
            " 1   category_id            3192 non-null   object \n",
            " 2   channel_title          3195 non-null   object \n",
            " 3   subscriber             3175 non-null   float64\n",
            " 4   title                  3195 non-null   object \n",
            " 5   tags                   3046 non-null   object \n",
            " 6   description            3133 non-null   object \n",
            " 7   Trend_day_count        3197 non-null   float64\n",
            " 8   Tag_count              3197 non-null   object \n",
            " 9   Trend_tag_count        3197 non-null   object \n",
            " 10  comment_count          3198 non-null   object \n",
            " 11  comment_disabled       3198 non-null   object \n",
            " 12  like dislike disabled  3198 non-null   object \n",
            " 13  likes                  3198 non-null   object \n",
            " 14  dislike                3198 non-null   object \n",
            " 15  tag appered in title   3197 non-null   object \n",
            " 16  views                  3198 non-null   object \n",
            "dtypes: float64(2), object(15)\n",
            "memory usage: 424.9+ KB\n"
          ]
        }
      ]
    },
    {
      "cell_type": "code",
      "source": [
        "df2 = df2.fillna(0)"
      ],
      "metadata": {
        "id": "sCGp05Skf6p1"
      },
      "execution_count": 12,
      "outputs": []
    },
    {
      "cell_type": "code",
      "source": [
        "df2.info()"
      ],
      "metadata": {
        "colab": {
          "base_uri": "https://localhost:8080/"
        },
        "id": "d64gFQutgDQo",
        "outputId": "2fb83189-34a9-4755-f387-3eec0a279aba"
      },
      "execution_count": 13,
      "outputs": [
        {
          "output_type": "stream",
          "name": "stdout",
          "text": [
            "<class 'pandas.core.frame.DataFrame'>\n",
            "RangeIndex: 3198 entries, 0 to 3197\n",
            "Data columns (total 17 columns):\n",
            " #   Column                 Non-Null Count  Dtype  \n",
            "---  ------                 --------------  -----  \n",
            " 0   Video_id               3198 non-null   object \n",
            " 1   category_id            3198 non-null   object \n",
            " 2   channel_title          3198 non-null   object \n",
            " 3   subscriber             3198 non-null   float64\n",
            " 4   title                  3198 non-null   object \n",
            " 5   tags                   3198 non-null   object \n",
            " 6   description            3198 non-null   object \n",
            " 7   Trend_day_count        3198 non-null   float64\n",
            " 8   Tag_count              3198 non-null   object \n",
            " 9   Trend_tag_count        3198 non-null   object \n",
            " 10  comment_count          3198 non-null   object \n",
            " 11  comment_disabled       3198 non-null   object \n",
            " 12  like dislike disabled  3198 non-null   object \n",
            " 13  likes                  3198 non-null   object \n",
            " 14  dislike                3198 non-null   object \n",
            " 15  tag appered in title   3198 non-null   object \n",
            " 16  views                  3198 non-null   object \n",
            "dtypes: float64(2), object(15)\n",
            "memory usage: 424.9+ KB\n"
          ]
        }
      ]
    },
    {
      "cell_type": "markdown",
      "source": [
        "Changing The Data Type For Numeric Data "
      ],
      "metadata": {
        "id": "J4SxitlvgJYd"
      }
    },
    {
      "cell_type": "code",
      "source": [
        "df2['Trend_day_count']= df2['Trend_day_count'].astype(float)"
      ],
      "metadata": {
        "id": "ZzCT3jZdgPA5"
      },
      "execution_count": 14,
      "outputs": []
    },
    {
      "cell_type": "code",
      "source": [
        "df2['dislike']= pd.to_numeric(df2['dislike'], errors = 'coerce')\n",
        "df2['comment_count']= pd.to_numeric(df2['comment_count'], errors = 'coerce')\n",
        "df2['Trend_tag_count']= pd.to_numeric(df2['Trend_tag_count'], errors = 'coerce')\n",
        "df2['Tag_count']= pd.to_numeric(df2['Tag_count'], errors = 'coerce')\n",
        "df2['category_id']= pd.to_numeric(df2['category_id'], errors = 'coerce')\n",
        "df2['likes']= pd.to_numeric(df2['likes'], errors = 'coerce')"
      ],
      "metadata": {
        "id": "j85o8LF8gSal"
      },
      "execution_count": 15,
      "outputs": []
    },
    {
      "cell_type": "code",
      "source": [
        "df2 = df2.fillna(0)"
      ],
      "metadata": {
        "id": "SlaPkSNhgV9q"
      },
      "execution_count": 16,
      "outputs": []
    },
    {
      "cell_type": "code",
      "source": [
        "df2.info()"
      ],
      "metadata": {
        "colab": {
          "base_uri": "https://localhost:8080/"
        },
        "id": "m8VV27qfgYwN",
        "outputId": "82ee58ee-13ae-4f79-ecdb-3d566bbfb652"
      },
      "execution_count": 17,
      "outputs": [
        {
          "output_type": "stream",
          "name": "stdout",
          "text": [
            "<class 'pandas.core.frame.DataFrame'>\n",
            "RangeIndex: 3198 entries, 0 to 3197\n",
            "Data columns (total 17 columns):\n",
            " #   Column                 Non-Null Count  Dtype  \n",
            "---  ------                 --------------  -----  \n",
            " 0   Video_id               3198 non-null   object \n",
            " 1   category_id            3198 non-null   float64\n",
            " 2   channel_title          3198 non-null   object \n",
            " 3   subscriber             3198 non-null   float64\n",
            " 4   title                  3198 non-null   object \n",
            " 5   tags                   3198 non-null   object \n",
            " 6   description            3198 non-null   object \n",
            " 7   Trend_day_count        3198 non-null   float64\n",
            " 8   Tag_count              3198 non-null   float64\n",
            " 9   Trend_tag_count        3198 non-null   float64\n",
            " 10  comment_count          3198 non-null   float64\n",
            " 11  comment_disabled       3198 non-null   object \n",
            " 12  like dislike disabled  3198 non-null   object \n",
            " 13  likes                  3198 non-null   float64\n",
            " 14  dislike                3198 non-null   float64\n",
            " 15  tag appered in title   3198 non-null   object \n",
            " 16  views                  3198 non-null   object \n",
            "dtypes: float64(8), object(9)\n",
            "memory usage: 424.9+ KB\n"
          ]
        }
      ]
    },
    {
      "cell_type": "code",
      "source": [
        "df2['like dislike disabled']= df2['like dislike disabled'].astype(bool)\n",
        "df2['comment_disabled']= df2['comment_disabled'].astype(bool)\n",
        "df2['tag appered in title']= df2['tag appered in title'].astype(bool)\n"
      ],
      "metadata": {
        "id": "vJG406yvggB6"
      },
      "execution_count": 18,
      "outputs": []
    },
    {
      "cell_type": "code",
      "source": [
        "df2.info()"
      ],
      "metadata": {
        "colab": {
          "base_uri": "https://localhost:8080/"
        },
        "id": "Q39yTybcgj6l",
        "outputId": "1be23fd6-eb40-4ac7-9290-465ccd68a3ea"
      },
      "execution_count": 19,
      "outputs": [
        {
          "output_type": "stream",
          "name": "stdout",
          "text": [
            "<class 'pandas.core.frame.DataFrame'>\n",
            "RangeIndex: 3198 entries, 0 to 3197\n",
            "Data columns (total 17 columns):\n",
            " #   Column                 Non-Null Count  Dtype  \n",
            "---  ------                 --------------  -----  \n",
            " 0   Video_id               3198 non-null   object \n",
            " 1   category_id            3198 non-null   float64\n",
            " 2   channel_title          3198 non-null   object \n",
            " 3   subscriber             3198 non-null   float64\n",
            " 4   title                  3198 non-null   object \n",
            " 5   tags                   3198 non-null   object \n",
            " 6   description            3198 non-null   object \n",
            " 7   Trend_day_count        3198 non-null   float64\n",
            " 8   Tag_count              3198 non-null   float64\n",
            " 9   Trend_tag_count        3198 non-null   float64\n",
            " 10  comment_count          3198 non-null   float64\n",
            " 11  comment_disabled       3198 non-null   bool   \n",
            " 12  like dislike disabled  3198 non-null   bool   \n",
            " 13  likes                  3198 non-null   float64\n",
            " 14  dislike                3198 non-null   float64\n",
            " 15  tag appered in title   3198 non-null   bool   \n",
            " 16  views                  3198 non-null   object \n",
            "dtypes: bool(3), float64(8), object(6)\n",
            "memory usage: 359.3+ KB\n"
          ]
        }
      ]
    },
    {
      "cell_type": "markdown",
      "source": [
        "Finding Outliers"
      ],
      "metadata": {
        "id": "cvQ1f13igsSA"
      }
    },
    {
      "cell_type": "code",
      "source": [
        "sns.boxplot(df2['subscriber'])"
      ],
      "metadata": {
        "colab": {
          "base_uri": "https://localhost:8080/",
          "height": 351
        },
        "id": "fmUFzq2ZgvEW",
        "outputId": "c3b34d91-9984-493d-9709-40bf79e099fb"
      },
      "execution_count": 20,
      "outputs": [
        {
          "output_type": "stream",
          "name": "stderr",
          "text": [
            "/usr/local/lib/python3.8/dist-packages/seaborn/_decorators.py:36: FutureWarning: Pass the following variable as a keyword arg: x. From version 0.12, the only valid positional argument will be `data`, and passing other arguments without an explicit keyword will result in an error or misinterpretation.\n",
            "  warnings.warn(\n"
          ]
        },
        {
          "output_type": "execute_result",
          "data": {
            "text/plain": [
              "<AxesSubplot:xlabel='subscriber'>"
            ]
          },
          "metadata": {},
          "execution_count": 20
        },
        {
          "output_type": "display_data",
          "data": {
            "text/plain": [
              "<Figure size 432x288 with 1 Axes>"
            ],
            "image/png": "[encoded data removed]"
          },
          "metadata": {
            "needs_background": "light"
          }
        }
      ]
    },
    {
      "cell_type": "code",
      "source": [
        "sns.distplot(df2['dislike'])"
      ],
      "metadata": {
        "colab": {
          "base_uri": "https://localhost:8080/",
          "height": 351
        },
        "id": "HpMYRC70g2p-",
        "outputId": "27a26e88-672e-4895-bd15-41507e99bee5"
      },
      "execution_count": 21,
      "outputs": [
        {
          "output_type": "stream",
          "name": "stderr",
          "text": [
            "/usr/local/lib/python3.8/dist-packages/seaborn/distributions.py:2619: FutureWarning: `distplot` is a deprecated function and will be removed in a future version. Please adapt your code to use either `displot` (a figure-level function with similar flexibility) or `histplot` (an axes-level function for histograms).\n",
            "  warnings.warn(msg, FutureWarning)\n"
          ]
        },
        {
          "output_type": "execute_result",
          "data": {
            "text/plain": [
              "<AxesSubplot:xlabel='dislike', ylabel='Density'>"
            ]
          },
          "metadata": {},
          "execution_count": 21
        },
        {
          "output_type": "display_data",
          "data": {
            "text/plain": [
              "<Figure size 432x288 with 1 Axes>"
            ],
            "image/png": "[encoded data removed]"
          },
          "metadata": {
            "needs_background": "light"
          }
        }
      ]
    },
    {
      "cell_type": "code",
      "source": [
        "sns.boxplot(df2['likes'])"
      ],
      "metadata": {
        "colab": {
          "base_uri": "https://localhost:8080/",
          "height": 351
        },
        "id": "indSRUkag7qD",
        "outputId": "e0e613bf-9452-492c-a038-946ea5ace253"
      },
      "execution_count": 22,
      "outputs": [
        {
          "output_type": "stream",
          "name": "stderr",
          "text": [
            "/usr/local/lib/python3.8/dist-packages/seaborn/_decorators.py:36: FutureWarning: Pass the following variable as a keyword arg: x. From version 0.12, the only valid positional argument will be `data`, and passing other arguments without an explicit keyword will result in an error or misinterpretation.\n",
            "  warnings.warn(\n"
          ]
        },
        {
          "output_type": "execute_result",
          "data": {
            "text/plain": [
              "<AxesSubplot:xlabel='likes'>"
            ]
          },
          "metadata": {},
          "execution_count": 22
        },
        {
          "output_type": "display_data",
          "data": {
            "text/plain": [
              "<Figure size 432x288 with 1 Axes>"
            ],
            "image/png": "[encoded data removed]"
          },
          "metadata": {
            "needs_background": "light"
          }
        }
      ]
    },
    {
      "cell_type": "code",
      "source": [
        "sns.catplot(x=\"comment_count\",y=\"comment_disabled\",data=df2,kind=\"bar\",height=4)"
      ],
      "metadata": {
        "colab": {
          "base_uri": "https://localhost:8080/",
          "height": 314
        },
        "id": "voLjY6vng_t7",
        "outputId": "bb388fd0-90ec-4555-a852-e12733968797"
      },
      "execution_count": 23,
      "outputs": [
        {
          "output_type": "execute_result",
          "data": {
            "text/plain": [
              "<seaborn.axisgrid.FacetGrid at 0x7f2d12bdf250>"
            ]
          },
          "metadata": {},
          "execution_count": 23
        },
        {
          "output_type": "display_data",
          "data": {
            "text/plain": [
              "<Figure size 288x288 with 1 Axes>"
            ],
            "image/png": "[encoded data removed]"
          },
          "metadata": {
            "needs_background": "light"
          }
        }
      ]
    },
    {
      "cell_type": "code",
      "source": [
        "sns.catplot(x=\"Trend_tag_count\",y=\"Tag_count\",data=df2,kind=\"bar\",height=4)"
      ],
      "metadata": {
        "colab": {
          "base_uri": "https://localhost:8080/",
          "height": 314
        },
        "id": "lXRZu8Y1hGr9",
        "outputId": "9c5f6de3-a4a5-4300-c7c0-c5310bf1bba4"
      },
      "execution_count": 24,
      "outputs": [
        {
          "output_type": "execute_result",
          "data": {
            "text/plain": [
              "<seaborn.axisgrid.FacetGrid at 0x7f2d10239550>"
            ]
          },
          "metadata": {},
          "execution_count": 24
        },
        {
          "output_type": "display_data",
          "data": {
            "text/plain": [
              "<Figure size 288x288 with 1 Axes>"
            ],
            "image/png": "[encoded data removed]"
          },
          "metadata": {
            "needs_background": "light"
          }
        }
      ]
    },
    {
      "cell_type": "code",
      "source": [
        "sns.boxplot(df2['Trend_day_count'].head(), df2['Video_id'].head())\n",
        "sns.lineplot(df2['Trend_day_count'].head(), df2['Video_id'].head())"
      ],
      "metadata": {
        "colab": {
          "base_uri": "https://localhost:8080/",
          "height": 387
        },
        "id": "ftavAHIchLmP",
        "outputId": "d8cd8548-9c0c-43e7-8b92-820f944c8588"
      },
      "execution_count": 25,
      "outputs": [
        {
          "output_type": "stream",
          "name": "stderr",
          "text": [
            "/usr/local/lib/python3.8/dist-packages/seaborn/_decorators.py:36: FutureWarning: Pass the following variables as keyword args: x, y. From version 0.12, the only valid positional argument will be `data`, and passing other arguments without an explicit keyword will result in an error or misinterpretation.\n",
            "  warnings.warn(\n",
            "/usr/local/lib/python3.8/dist-packages/seaborn/_decorators.py:36: FutureWarning: Pass the following variables as keyword args: x, y. From version 0.12, the only valid positional argument will be `data`, and passing other arguments without an explicit keyword will result in an error or misinterpretation.\n",
            "  warnings.warn(\n"
          ]
        },
        {
          "output_type": "execute_result",
          "data": {
            "text/plain": [
              "<AxesSubplot:xlabel='Trend_day_count', ylabel='Video_id'>"
            ]
          },
          "metadata": {},
          "execution_count": 25
        },
        {
          "output_type": "display_data",
          "data": {
            "text/plain": [
              "<Figure size 432x288 with 1 Axes>"
            ],
            "image/png": "[encoded data removed]"
          },
          "metadata": {
            "needs_background": "light"
          }
        }
      ]
    },
    {
      "cell_type": "code",
      "source": [
        "sns.countplot(x ='like dislike disabled', data=df2)"
      ],
      "metadata": {
        "colab": {
          "base_uri": "https://localhost:8080/",
          "height": 296
        },
        "id": "oj2RemJ7hQgU",
        "outputId": "31d49840-06c0-4628-a913-16d568181f8e"
      },
      "execution_count": 26,
      "outputs": [
        {
          "output_type": "execute_result",
          "data": {
            "text/plain": [
              "<AxesSubplot:xlabel='like dislike disabled', ylabel='count'>"
            ]
          },
          "metadata": {},
          "execution_count": 26
        },
        {
          "output_type": "display_data",
          "data": {
            "text/plain": [
              "<Figure size 432x288 with 1 Axes>"
            ],
            "image/png": "[encoded data removed]"
          },
          "metadata": {
            "needs_background": "light"
          }
        }
      ]
    },
    {
      "cell_type": "code",
      "source": [
        "sns.countplot(x ='comment_disabled', data=df2)"
      ],
      "metadata": {
        "colab": {
          "base_uri": "https://localhost:8080/",
          "height": 297
        },
        "id": "o0qGnYeshV6m",
        "outputId": "bae21dff-a3c8-4006-9290-f61e8ebc871f"
      },
      "execution_count": 27,
      "outputs": [
        {
          "output_type": "execute_result",
          "data": {
            "text/plain": [
              "<AxesSubplot:xlabel='comment_disabled', ylabel='count'>"
            ]
          },
          "metadata": {},
          "execution_count": 27
        },
        {
          "output_type": "display_data",
          "data": {
            "text/plain": [
              "<Figure size 432x288 with 1 Axes>"
            ],
            "image/png": "[encoded data removed]"
          },
          "metadata": {
            "needs_background": "light"
          }
        }
      ]
    },
    {
      "cell_type": "code",
      "source": [
        "sns.countplot(x ='tag appered in title', data=df2)"
      ],
      "metadata": {
        "colab": {
          "base_uri": "https://localhost:8080/",
          "height": 296
        },
        "id": "aunisVUxhaoe",
        "outputId": "512638e0-1564-4a2e-c6c5-1cbc20287652"
      },
      "execution_count": 28,
      "outputs": [
        {
          "output_type": "execute_result",
          "data": {
            "text/plain": [
              "<AxesSubplot:xlabel='tag appered in title', ylabel='count'>"
            ]
          },
          "metadata": {},
          "execution_count": 28
        },
        {
          "output_type": "display_data",
          "data": {
            "text/plain": [
              "<Figure size 432x288 with 1 Axes>"
            ],
            "image/png": "[encoded data removed]"
          },
          "metadata": {
            "needs_background": "light"
          }
        }
      ]
    }
  ]
}